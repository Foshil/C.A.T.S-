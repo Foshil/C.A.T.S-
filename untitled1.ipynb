previous_screenshot_gray = None

FRAGMENT_WIDTH = 242
FRAGMENT_HEIGHT = 138
TOP_OFFSET = 30
LEFT_OFFSET = 1
CHANGE_THRESHOLD = 5    
SLEEP_TIME = 1

with mss.mss() as sct:
    monitor_number = 2
    mon = sct.monitors[monitor_number]

    while True:
        monitor = {
            "top": mon["top"] + TOP_OFFSET,
            "left": mon["left"] + LEFT_OFFSET,
            "width": FRAGMENT_WIDTH,
            "height": FRAGMENT_HEIGHT,
            "mon": monitor_number,
        }

        screenshot_color = sct.grab(monitor)
        screenshot_np_color = np.array(screenshot_color)  # RGB

        screenshot_gray = cv2.cvtColor(screenshot_np_color, cv2.COLOR_RGB2GRAY)
        screenshot_gray = cv2.GaussianBlur(screenshot_gray, (5,5), 0)

        if previous_screenshot_gray is None:
            previous_screenshot_gray = screenshot_gray
            time.sleep(SLEEP_TIME)
            continue

        diff = cv2.absdiff(previous_screenshot_gray, screenshot_gray)
        mean_diff = np.mean(diff)

        if mean_diff > CHANGE_THRESHOLD:
            timestamp = time.strftime("%Y%m%d_%H%M%S")
            filename = f"screenshot_{timestamp}.png"
            
            cv2.imwrite(filename, cv2.cvtColor(screenshot_np_color, cv2.COLOR_RGB2BGR))
            print(f"Saved: {filename} (AVG change: {mean_diff:.2f})")
            previous_screenshot_gray = screenshot_gray

        time.sleep(SLEEP_TIME)
